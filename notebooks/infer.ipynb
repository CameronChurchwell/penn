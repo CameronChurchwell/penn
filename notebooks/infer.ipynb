{
 "cells": [
  {
   "cell_type": "code",
   "execution_count": null,
   "metadata": {},
   "outputs": [],
   "source": [
    "%load_ext autoreload\n",
    "%autoreload 2"
   ]
  },
  {
   "cell_type": "code",
   "execution_count": null,
   "metadata": {},
   "outputs": [],
   "source": [
    "import matplotlib.pyplot as plt\n",
    "import numpy as np\n",
    "import torch\n",
    "\n",
    "import penne"
   ]
  },
  {
   "cell_type": "code",
   "execution_count": null,
   "metadata": {},
   "outputs": [],
   "source": [
    "dataset = 'mdb'\n",
    "stem = '000159'\n",
    "\n",
    "# Load from cache\n",
    "directory = penne.CACHE_DIR / dataset\n",
    "audio = np.load(directory / f'{stem}-audio.npy')\n",
    "pitch = np.load(directory / f'{stem}-pitch.npy')\n",
    "voiced = np.load(directory / f'{stem}-voiced.npy')\n",
    "\n",
    "# Convert to torch\n",
    "audio = torch.from_numpy(audio)[None]\n",
    "pitch = torch.from_numpy(pitch)\n",
    "voiced = torch.from_numpy(voiced)\n",
    "\n",
    "# Convert to pitch bin categories\n",
    "bins = penne.convert.frequency_to_bins(pitch)\n",
    "\n",
    "# Set unvoiced bins to random values\n",
    "bins = torch.where(\n",
    "    ~voiced,\n",
    "    torch.randint(0, penne.PITCH_BINS, bins.shape, dtype=torch.long),\n",
    "    bins)\n",
    "\n",
    "# Infer\n",
    "predicted_pitch, predicted_periodicity, logits, frames = penne.from_audio(\n",
    "    audio[:, :],\n",
    "    penne.SAMPLE_RATE,\n",
    "    model='crepe',\n",
    "    checkpoint=penne.RUNS_DIR / 'crepe' / '00250000.pt',\n",
    "    batch_size=2048,\n",
    "    gpu=0)"
   ]
  },
  {
   "cell_type": "code",
   "execution_count": null,
   "metadata": {},
   "outputs": [],
   "source": [
    "pitch[~voiced] = np.nan\n",
    "predicted_pitch[:, ~voiced] = np.nan\n",
    "plt.plot(predicted_pitch.squeeze())\n",
    "plt.plot(pitch.squeeze())\n"
   ]
  },
  {
   "cell_type": "code",
   "execution_count": null,
   "metadata": {},
   "outputs": [],
   "source": [
    "plt.plot(pitch[voiced].squeeze() - predicted_pitch.squeeze()[voiced])"
   ]
  },
  {
   "cell_type": "code",
   "execution_count": null,
   "metadata": {},
   "outputs": [],
   "source": []
  },
  {
   "cell_type": "code",
   "execution_count": null,
   "metadata": {},
   "outputs": [],
   "source": []
  }
 ],
 "metadata": {
  "kernelspec": {
   "display_name": "Python 3.9.13 ('penne': conda)",
   "language": "python",
   "name": "python3"
  },
  "language_info": {
   "codemirror_mode": {
    "name": "ipython",
    "version": 3
   },
   "file_extension": ".py",
   "mimetype": "text/x-python",
   "name": "python",
   "nbconvert_exporter": "python",
   "pygments_lexer": "ipython3",
   "version": "3.9.13"
  },
  "orig_nbformat": 4,
  "vscode": {
   "interpreter": {
    "hash": "7921ef95ea35f77ac65978b2c95633d6e741d404f8cf01894a204eea5ffe5610"
   }
  }
 },
 "nbformat": 4,
 "nbformat_minor": 2
}
