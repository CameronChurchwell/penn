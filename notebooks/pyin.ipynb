{
 "cells": [
  {
   "cell_type": "code",
   "execution_count": null,
   "metadata": {},
   "outputs": [],
   "source": [
    "%load_ext autoreload\n",
    "%autoreload 2"
   ]
  },
  {
   "cell_type": "code",
   "execution_count": null,
   "metadata": {},
   "outputs": [],
   "source": [
    "import librosa\n",
    "import torch\n",
    "import penne"
   ]
  },
  {
   "cell_type": "code",
   "execution_count": null,
   "metadata": {},
   "outputs": [],
   "source": [
    "loader = penne.data.loader(['mdb'], 'test')\n",
    "penne.PERIODICITY = 'sum'\n",
    "penne.DECODER = 'viterbi'\n",
    "penne.METHOD = 'pyin'"
   ]
  },
  {
   "cell_type": "code",
   "execution_count": null,
   "metadata": {},
   "outputs": [],
   "source": [
    "metrics = penne.evaluate.Metrics()\n",
    "\n",
    "for audio, bins, pitch, voiced, stem in loader:\n",
    "    metrics.reset()\n",
    "\n",
    "    # Pad\n",
    "    pad = (penne.WINDOW_SIZE - penne.HOPSIZE) // 2\n",
    "    audio = torch.nn.functional.pad(audio, (pad, pad))\n",
    "\n",
    "    # Infer\n",
    "    logits = penne.dsp.pyin.infer(audio[0])\n",
    "\n",
    "    # Update metrics\n",
    "    args = logits, bins, pitch, voiced\n",
    "    metrics.update(*args)\n",
    "\n",
    "    lib_pitch, _, lib_period = librosa.pyin(\n",
    "        audio.numpy(),\n",
    "        fmin=penne.FMIN,\n",
    "        fmax=penne.FMAX,\n",
    "        sr=penne.SAMPLE_RATE,\n",
    "        win_length=penne.WINDOW_SIZE,\n",
    "        hop_length=penne.HOPSIZE,\n",
    "        center=False)\n",
    "        \n",
    "    break"
   ]
  },
  {
   "cell_type": "code",
   "execution_count": null,
   "metadata": {},
   "outputs": [],
   "source": [
    "pred_bins, pred_pitch, pred_period = penne.postprocess(logits)"
   ]
  },
  {
   "cell_type": "code",
   "execution_count": null,
   "metadata": {},
   "outputs": [],
   "source": [
    "pred_bins.shape, pred_pitch.shape"
   ]
  },
  {
   "cell_type": "markdown",
   "metadata": {},
   "source": []
  },
  {
   "cell_type": "code",
   "execution_count": null,
   "metadata": {},
   "outputs": [],
   "source": [
    "import matplotlib.pyplot as plt\n",
    "plt.figure(figsize=(18, 8))\n",
    "plt.plot(pitch.squeeze()[voiced.squeeze()])\n",
    "# plt.plot(lib_pitch.squeeze()[voiced.squeeze()])\n",
    "plt.plot(pred_pitch.squeeze()[voiced.squeeze()])\n",
    "\n"
   ]
  },
  {
   "cell_type": "code",
   "execution_count": null,
   "metadata": {},
   "outputs": [],
   "source": [
    "plt.figure(figsize=(18, 8))\n",
    "plt.plot(pred_period.squeeze())\n",
    "plt.plot(lib_period.squeeze())"
   ]
  },
  {
   "cell_type": "code",
   "execution_count": null,
   "metadata": {},
   "outputs": [],
   "source": [
    "metrics()"
   ]
  },
  {
   "cell_type": "code",
   "execution_count": null,
   "metadata": {},
   "outputs": [],
   "source": []
  }
 ],
 "metadata": {
  "kernelspec": {
   "display_name": "Python 3.9.13 ('penne')",
   "language": "python",
   "name": "python3"
  },
  "language_info": {
   "codemirror_mode": {
    "name": "ipython",
    "version": 3
   },
   "file_extension": ".py",
   "mimetype": "text/x-python",
   "name": "python",
   "nbconvert_exporter": "python",
   "pygments_lexer": "ipython3",
   "version": "3.9.13"
  },
  "orig_nbformat": 4,
  "vscode": {
   "interpreter": {
    "hash": "7921ef95ea35f77ac65978b2c95633d6e741d404f8cf01894a204eea5ffe5610"
   }
  }
 },
 "nbformat": 4,
 "nbformat_minor": 2
}
